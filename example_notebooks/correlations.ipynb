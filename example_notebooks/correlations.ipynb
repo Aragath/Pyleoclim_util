{
 "cells": [
  {
   "cell_type": "markdown",
   "metadata": {},
   "source": [
    "# Computing correlations in `Pyleoclim`"
   ]
  },
  {
   "cell_type": "markdown",
   "metadata": {},
   "source": [
    "Correlation analysis, despite its simplicity and many shortcomings, remains a centerpiece of empirical analysis in many fields, particularly the paleosciences. Computing correlations is trivial enough; the difficulty lies in properly assessing their significance. Of particular importance are three considerations:\n",
    "- **Persistence**, which violates the standard assumption that the data are independent (which underlies the classical test of significance implemented, e.g. in Excel). \n",
    "- **Time irregularities**, for instance comparing two records with different time axes, possibly unevenly spaced (which standard software cannot deal with out of the box)\n",
    "- **Age uncertainties** for example comparing two records, each with an ensemble of plausible chronologies (generated, for instance, by a Bayesian age model)\n",
    "- **Test multiplicity** aka the \"Look Elsewhere effect\", which states that repeatedly performing the same test can result in unacceptably high type I error (accepting correlations as significant, when in fact they are not). This arises e.g. when correlating a paleoclimate record with an instrumental field, assessing significance at thounsands of grid points at once, or assessing significance within an age ensemble.\n",
    "\n",
    "Accordingly,  `Pyleoclim` facilitates an assessment of correlations that deals with all these cases, makes the necessary data transformations transparent to the user, and allows for one-line plot commands to visualize the results. \n",
    "\n",
    "In this notebook, we illustrate some of these capabilities with several simple scenarios, including:\n",
    "1. Correlating a single `Series` object with another, both with consistent time axis\n",
    "2. Correlating a single `Series` object with another, with inconsistent time axis (same case below)\n",
    "3. Correlating a `MultipleSeries` object with a `Series` object as target\n",
    "4. Correlating a `MultipleSeries` object without a given target \n",
    "5. Correlating a `EnsembleSeries` object with a `Series` object as target\n",
    "6. Correlating a `EnsembleSeries` object with a given target\n",
    "7. Correlating two `EnsembleSeries` objects\n",
    "\n",
    "As usual, `Series` is the most foundamental timeseries object in `Pyleoclim`,\n",
    "`MultipleSeries` is a list of such `Series`, while\n",
    "`EnsembleSeries` is a type  of `MultipleSeries` (technically, a child class) assuming the\n",
    "members in the list come from an ensemble. For a primer on the various data structures, see the [documentation](https://pyleoclim-util.readthedocs.io/en/stable/core/ui.html#)."
   ]
  },
  {
   "cell_type": "code",
   "execution_count": 1,
   "metadata": {},
   "outputs": [],
   "source": [
    "%load_ext autoreload\n",
    "%autoreload 2\n",
    "    \n",
    "import pyleoclim as pyleo\n",
    "import scipy.io as sio\n",
    "import numpy as np"
   ]
  },
  {
   "cell_type": "markdown",
   "metadata": {},
   "source": [
    "## Test data"
   ]
  },
  {
   "cell_type": "markdown",
   "metadata": {},
   "source": [
    "We load the `ninoairdata` from Matlab (see https://www.mathworks.com/help/wavelet/ref/wcoherence.html) as our test data, which contains a series of air temperature and the [NINO3 SST index](https://climatedataguide.ucar.edu/climate-data/nino-sst-indices-nino-12-3-34-4-oni-and-tni)."
   ]
  },
  {
   "cell_type": "code",
   "execution_count": 3,
   "metadata": {},
   "outputs": [
    {
     "name": "stdout",
     "output_type": "stream",
     "text": [
      "data length: 1596\n"
     ]
    }
   ],
   "source": [
    "# load data\n",
    "data = sio.loadmat('../example_data/wtc_test_data_nino.mat')\n",
    "air = data['air'][:, 0]\n",
    "nino = data['nino'][:, 0]\n",
    "t = data['datayear'][:, 0]\n",
    "print('data length:', np.size(t))"
   ]
  },
  {
   "cell_type": "markdown",
   "metadata": {},
   "source": [
    "We randomly delete 500 data points from the original test data to create an inconsistent time axis for later test of the package's functionality."
   ]
  },
  {
   "cell_type": "code",
   "execution_count": 4,
   "metadata": {},
   "outputs": [
    {
     "name": "stdout",
     "output_type": "stream",
     "text": [
      "Time axis of air: [1871.08 1871.17 1871.25 ... 2003.42 2003.58 2003.75]\n",
      "Time axis of nino: [1871.08 1871.25 1871.33 ... 2003.42 2003.5  2003.58]\n"
     ]
    }
   ],
   "source": [
    "# randomly delete 500 data points\n",
    "n_del = 500\n",
    "np.random.seed(2333)\n",
    "deleted_idx_air = np.random.choice(range(np.size(t)), n_del, replace=False)\n",
    "np.random.seed(2334)\n",
    "deleted_idx_nino = np.random.choice(range(np.size(t)), n_del, replace=False)\n",
    "air_value_unevenly =  np.delete(air, deleted_idx_air)\n",
    "air_time_unevenly =  np.delete(t, deleted_idx_air)\n",
    "nino_value_unevenly =  np.delete(nino, deleted_idx_nino)\n",
    "nino_time_unevenly =  np.delete(t, deleted_idx_nino)\n",
    "print('Time axis of air:', air_time_unevenly)\n",
    "print('Time axis of nino:', nino_time_unevenly)\n",
    "\n",
    "# define Series\n",
    "ts_air_evenly = pyleo.Series(time=t, value=air)\n",
    "ts_nino_evenly = pyleo.Series(time=t, value=nino)\n",
    "ts_air_unevenly = pyleo.Series(time=air_time_unevenly, value=air_value_unevenly)\n",
    "ts_nino_unevenly = pyleo.Series(time=nino_time_unevenly, value=nino_value_unevenly)"
   ]
  },
  {
   "cell_type": "markdown",
   "metadata": {},
   "source": [
    "## Case 1: 1 `Series` vs 1 `Series`, with consistent time axis\n",
    "This is the simplest case, though it already illustrates problem #1 (the loss of independence of consecutive values due to autocorrelation, a form of persistence). To deal with this, `correlation` calls the function `corr_sig` (see [documentation](https://pyleoclim-util.readthedocs.io/en/stable/utils/correlation/corr_sig.html?highlight=corr_sig)), which uses an isospectral test of significance (generating 1000 surrogates of the original series by phase randomization, computing pairwise correlations, and gauging the original correlation against this ensemble). This approach is non-parametric, making no assumption about the structure of the series, and it is computationally quite fast except for very long series (over 10,000 points or so, on a typical laptop).  As you'll see now, for two short series, this computation is nearly instantaneous:"
   ]
  },
  {
   "cell_type": "code",
   "execution_count": 4,
   "metadata": {},
   "outputs": [
    {
     "name": "stdout",
     "output_type": "stream",
     "text": [
      "{'r': -0.15239413332839044, 'signif': True, 'p': 0.0}\n"
     ]
    }
   ],
   "source": [
    "corr_res = ts_air_evenly.correlation(ts_nino_evenly)\n",
    "print(corr_res)"
   ]
  },
  {
   "cell_type": "markdown",
   "metadata": {},
   "source": [
    "The output of `correlation` is a simple dictionary containing 3 pieces of information: the numerical value of the correlation, a boolean flag saying whether it is significan or not, and an estimate of the p-value. In this case, a value of 0 means that the observed correlation of -0.152 is larger (in absolute value) than those of all the surrogate pairs, and is therefore significant by this test."
   ]
  },
  {
   "cell_type": "markdown",
   "metadata": {},
   "source": [
    "## Case 2: 1 `Series` vs 1 `Series`, with inconsistent time axis\n",
    "\n",
    "Now we compute the same correlation, but with the two series containing gaps in the time axis (our second challenge). Under the hood, what happens in this case is that the two `Series` objects are grouped as a `MultipleSeries` and the function `MultipleSeries.common_time()` is called to align the time axes utilizing either binning (default) or interpolation. "
   ]
  },
  {
   "cell_type": "code",
   "execution_count": 5,
   "metadata": {},
   "outputs": [
    {
     "name": "stdout",
     "output_type": "stream",
     "text": [
      "{'r': -0.18121262364176918, 'signif': True, 'p': 0.0}\n"
     ]
    }
   ],
   "source": [
    "corr_res = ts_air_unevenly.correlation(ts_nino_unevenly)\n",
    "print(corr_res)"
   ]
  },
  {
   "cell_type": "markdown",
   "metadata": {},
   "source": [
    "Notice here that the correlation has increased (in absolute value) as a result of the time gaps. This shows how  age errors do not always decrease correlations (a commonly held assumption). As before, it only took two lines of code to get this result, but a lot has happened under the hood."
   ]
  },
  {
   "cell_type": "markdown",
   "metadata": {},
   "source": [
    "## Case 3: 1 `MultipleSeries` vs 1 `Series`\n",
    "\n",
    "Now imagine that you have a stack of records stored in a `MultipleSeries` object, which you want to correlate to a target (say, a climate index). \n",
    "\n",
    "For simplicity, we construct our `MultipleSeries` object by adding Gaussian white noise to the air temperature data. In this case, each member of the `MultipleSeries` will be compared to the target `Series`, and the result contains a list of correlation coefficients, a list of p-values, and a list of significance boolean values."
   ]
  },
  {
   "cell_type": "code",
   "execution_count": 11,
   "metadata": {},
   "outputs": [],
   "source": [
    "nt = np.size(ts_air_unevenly.time)\n",
    "n_ens = 10  # ensemble size\n",
    "ts_list = []\n",
    "for i in range(n_ens):\n",
    "    np.random.seed(i)\n",
    "    noise = np.random.normal(loc=0, scale=2, size=nt)\n",
    "    value = air_value_unevenly + noise\n",
    "    new_ts = pyleo.Series(time=air_time_unevenly, value=value)\n",
    "    ts_list.append(new_ts)\n",
    "    \n",
    "ms_air = pyleo.MultipleSeries(ts_list)\n",
    "corr_res = ms_air.correlation(ts_nino_unevenly)"
   ]
  },
  {
   "cell_type": "markdown",
   "metadata": {},
   "source": [
    "## Case 4: 1 `MultipleSeries` without a given target\n",
    "\n",
    "If no target is provided (that is, if `correlation()` is applied to the `MultipleSeries` object by itself, the object's first member will be used as the target."
   ]
  },
  {
   "cell_type": "code",
   "execution_count": 7,
   "metadata": {},
   "outputs": [
    {
     "name": "stdout",
     "output_type": "stream",
     "text": [
      "{'r': [0.9999999999999998, 0.9999374125312044, 0.99993714372365, 0.9999344305144189, 0.9999415547035191, 0.9999395155655999, 0.9999375301231063, 0.9999391257891026, 0.9999343293322345, 0.9999376433287493], 'p': [0.0, 0.0, 0.0, 0.0, 0.0, 0.0, 0.0, 0.0, 0.0, 0.0], 'signif': [True, True, True, True, True, True, True, True, True, True]}\n"
     ]
    }
   ],
   "source": [
    "nt = np.size(ts_air_unevenly.time)\n",
    "n_ens = 10  # ensemble size\n",
    "ts_list = []\n",
    "for i in range(n_ens):\n",
    "    np.random.seed(i)\n",
    "    noise = np.random.normal(loc=0, scale=2, size=nt)\n",
    "    value = air_value_unevenly + noise\n",
    "    new_ts = pyleo.Series(time=air_time_unevenly, value=value)\n",
    "    ts_list.append(new_ts)\n",
    "    \n",
    "ms_air = pyleo.MultipleSeries(ts_list)\n",
    "corr_res = ms_air.correlation()\n",
    "# note here the target Series is not specified, and the 1st Series inside\n",
    "# the MultipleSeries itself will be used as the target\n",
    "print(corr_res)"
   ]
  },
  {
   "cell_type": "markdown",
   "metadata": {},
   "source": [
    "## Case 5: 1 `EnsembleSeries` vs 1 `Series`\n",
    "\n",
    "This case is very similar to Case 3, except that we create an `EnsembleSeries` object to emphasize that the 100 members are from an ensemble. To speed up computations, we use the adjusted T-test option here, but recommend sticking with the default (isosopectral) test in a real scientific setting."
   ]
  },
  {
   "cell_type": "code",
   "execution_count": 12,
   "metadata": {},
   "outputs": [
    {
     "name": "stderr",
     "output_type": "stream",
     "text": [
      "/Users/julieneg/opt/miniconda3/envs/pyleo/lib/python3.8/site-packages/statsmodels/tsa/ar_model.py:791: FutureWarning: \n",
      "statsmodels.tsa.AR has been deprecated in favor of statsmodels.tsa.AutoReg and\n",
      "statsmodels.tsa.SARIMAX.\n",
      "\n",
      "AutoReg adds the ability to specify exogenous variables, include time trends,\n",
      "and add seasonal dummies. The AutoReg API differs from AR since the model is\n",
      "treated as immutable, and so the entire specification including the lag\n",
      "length must be specified when creating the model. This change is too\n",
      "substantial to incorporate into the existing AR api. The function\n",
      "ar_select_order performs lag length selection for AutoReg models.\n",
      "\n",
      "AutoReg only estimates parameters using conditional MLE (OLS). Use SARIMAX to\n",
      "estimate ARX and related models using full MLE via the Kalman Filter.\n",
      "\n",
      "To silence this warning and continue using AR until it is removed, use:\n",
      "\n",
      "import warnings\n",
      "warnings.filterwarnings('ignore', 'statsmodels.tsa.ar_model.AR', FutureWarning)\n",
      "\n",
      "  warnings.warn(AR_DEPRECATION_WARN, FutureWarning)\n"
     ]
    },
    {
     "name": "stdout",
     "output_type": "stream",
     "text": [
      "  correlation      p-value  signif. w/o FDR (α: 0.05)    signif. w/ FDR (α: 0.05)\n",
      "-------------  -----------  ---------------------------  --------------------------\n",
      "   -0.0722541  0.0931532    False                        False\n",
      "   -0.137045   0.00178246   True                         True\n",
      "   -0.0827459  0.0586829    False                        False\n",
      "   -0.0858156  0.037572     True                         False\n",
      "   -0.115069   0.00894096   True                         True\n",
      "   -0.0618856  0.148731     False                        False\n",
      "   -0.0252093  0.573724     False                        False\n",
      "   -0.0807701  0.0739858    False                        False\n",
      "   -0.134809   0.00153498   True                         True\n",
      "   -0.110243   0.0130214    True                         True\n",
      "   -0.114631   0.0114226    True                         True\n",
      "   -0.0555839  0.209962     False                        False\n",
      "   -0.0258361  0.543172     False                        False\n",
      "   -0.104202   0.0177229    True                         False\n",
      "   -0.0944529  0.0302851    True                         False\n",
      "   -0.0124215  0.771748     False                        False\n",
      "   -0.0744652  0.0964583    False                        False\n",
      "   -0.0582843  0.163643     False                        False\n",
      "   -0.119046   0.00665505   True                         True\n",
      "   -0.088342   0.0411895    True                         False\n",
      "   -0.133597   0.00131626   True                         True\n",
      "   -0.0999646  0.0324966    True                         False\n",
      "   -0.0671063  0.102217     False                        False\n",
      "   -0.080728   0.0554324    False                        False\n",
      "   -0.0852962  0.053916     False                        False\n",
      "   -0.0156154  0.720386     False                        False\n",
      "   -0.0855093  0.0486073    True                         False\n",
      "   -0.12914    0.00468478   True                         True\n",
      "   -0.101865   0.0201431    True                         False\n",
      "   -0.0721328  0.102899     False                        False\n",
      "   -0.0890709  0.038113     True                         False\n",
      "   -0.0907624  0.0308845    True                         False\n",
      "   -0.10653    0.0108329    True                         True\n",
      "   -0.0705854  0.122731     False                        False\n",
      "   -0.0628243  0.134738     False                        False\n",
      "   -0.0585218  0.200486     False                        False\n",
      "   -0.105349   0.0140343    True                         True\n",
      "   -0.16589    0.00020123   True                         True\n",
      "   -0.0836486  0.0567929    False                        False\n",
      "   -0.0668219  0.121131     False                        False\n",
      "   -0.0779081  0.0756593    False                        False\n",
      "   -0.0680115  0.109899     False                        False\n",
      "   -0.0492556  0.267456     False                        False\n",
      "   -0.131754   0.00199794   True                         True\n",
      "   -0.12628    0.00503666   True                         True\n",
      "   -0.0837039  0.0610853    False                        False\n",
      "   -0.0988788  0.0179148    True                         False\n",
      "   -0.113483   0.00922043   True                         True\n",
      "   -0.0196312  0.646014     False                        False\n",
      "   -0.0738808  0.108292     False                        False\n",
      "   -0.0607669  0.169251     False                        False\n",
      "   -0.0681938  0.122843     False                        False\n",
      "   -0.0184557  0.673858     False                        False\n",
      "   -0.131043   0.00156851   True                         True\n",
      "   -0.0198465  0.646881     False                        False\n",
      "   -0.10171    0.0199328    True                         False\n",
      "   -0.0930714  0.0327587    True                         False\n",
      "   -0.0177215  0.685442     False                        False\n",
      "   -0.120083   0.00758439   True                         True\n",
      "   -0.102432   0.019887     True                         False\n",
      "   -0.0914157  0.0314547    True                         False\n",
      "   -0.0714785  0.106047     False                        False\n",
      "   -0.125276   0.00466517   True                         True\n",
      "   -0.109725   0.0135107    True                         True\n",
      "    0.0127111  0.764045     False                        False\n",
      "   -0.115372   0.00769298   True                         True\n",
      "   -0.0951369  0.0340224    True                         False\n",
      "   -0.0388909  0.374728     False                        False\n",
      "   -0.0149701  0.730735     False                        False\n",
      "   -0.0132415  0.761816     False                        False\n",
      "   -0.024082   0.579213     False                        False\n",
      "   -0.142919   0.000849603  True                         True\n",
      "   -0.141132   0.00222846   True                         True\n",
      "   -0.0353078  0.438806     False                        False\n",
      "   -0.145145   0.000741899  True                         True\n",
      "   -0.14787    0.00120065   True                         True\n",
      "   -0.104353   0.0157316    True                         False\n",
      "   -0.0890073  0.046139     True                         False\n",
      "   -0.0758289  0.0907718    False                        False\n",
      "   -0.0011671  0.979141     False                        False\n",
      "   -0.0655587  0.141674     False                        False\n",
      "   -0.101088   0.0142483    True                         True\n",
      "   -0.1805     3.8113e-05   True                         True\n",
      "   -0.0587102  0.150017     False                        False\n",
      "   -0.132689   0.00239775   True                         True\n",
      "   -0.113077   0.0082257    True                         True\n",
      "   -0.0658298  0.119681     False                        False\n",
      "   -0.104594   0.0169508    True                         False\n",
      "   -0.101463   0.0191133    True                         False\n",
      "   -0.0735883  0.0785536    False                        False\n",
      "   -0.0891225  0.0339918    True                         False\n",
      "   -0.0804437  0.0649249    False                        False\n",
      "   -0.0506137  0.260385     False                        False\n",
      "   -0.0621194  0.148532     False                        False\n",
      "   -0.121869   0.00434085   True                         True\n",
      "   -0.0334143  0.450379     False                        False\n",
      "   -0.0903718  0.0423234    True                         False\n",
      "   -0.0169752  0.697447     False                        False\n",
      "   -0.102952   0.0175561    True                         False\n",
      "   -0.119812   0.00529038   True                         True\n",
      "Ensemble size: 100\n"
     ]
    }
   ],
   "source": [
    "nt = np.size(ts_air_unevenly.time)\n",
    "n_ens = 100  # ensemble size\n",
    "ts_list = []\n",
    "for i in range(n_ens):\n",
    "    np.random.seed(i)\n",
    "    noise = np.random.normal(loc=0, scale=500, size=nt)\n",
    "    value = air_value_unevenly + noise\n",
    "    new_ts = pyleo.Series(time=air_time_unevenly, value=value)\n",
    "    ts_list.append(new_ts)\n",
    "    \n",
    "ms_air = pyleo.EnsembleSeries(ts_list)\n",
    "corr_res = ms_air.correlation(ts_nino_unevenly, settings={'method': 'ttest'})  # use 'ttest' only to accelerate\n",
    "print(corr_res)"
   ]
  },
  {
   "cell_type": "markdown",
   "metadata": {},
   "source": [
    "Now this gets unwieldy to interpret. To ease this step, `Pyleoclim` provides the option to visualize the result in a simple line call:"
   ]
  },
  {
   "cell_type": "code",
   "execution_count": 119,
   "metadata": {
    "scrolled": true
   },
   "outputs": [
    {
     "data": {
      "image/png": "[encoded data removed]",
      "text/plain": [
       "<Figure size 400x400 with 1 Axes>"
      ]
     },
     "metadata": {},
     "output_type": "display_data"
    }
   ],
   "source": [
    "pyleo.set_style('web')\n",
    "fig, ax = corr_res.plot(title='Correlation Ensemble')"
   ]
  },
  {
   "cell_type": "markdown",
   "metadata": {},
   "source": [
    "On this plot, gray bars represent the histogram of observed correlations, green bars mark those correlations significant at the 5% level, which comprise about half of the ensemble. Now, as we alluded to earlier, this may be an artifact of multiple testing, which will lead us to accept many results as \"significant\" if we conduct the same test repeatedly. To mitigate this,  `Pyleoclim` implements the False Discovery Rate procedure of [Benjamini & Hochberg (1995)](https://rss.onlinelibrary.wiley.com/doi/abs/10.1111/j.2517-6161.1995.tb02031.x).  (more on this below). This is shown in the orange bars, which together cover about 29% of the cases (i.e. 2/3 of the correlations identified as significant without the FDR procedure). We note that it is the green + orange bars together that correspond to the 51% of the cases identified thus. "
   ]
  },
  {
   "cell_type": "markdown",
   "metadata": {},
   "source": [
    "## Case 6: 1 `EnsembleSeries` without a given target\n",
    "\n",
    "This case is similar to Case 4, but for ensembles, and the function works similarly. "
   ]
  },
  {
   "cell_type": "code",
   "execution_count": null,
   "metadata": {},
   "outputs": [],
   "source": [
    "nt = np.size(ts_air_unevenly.time)\n",
    "n_ens = 10  # ensemble size\n",
    "ts_list = []\n",
    "for i in range(n_ens):\n",
    "    np.random.seed(i)\n",
    "    noise = np.random.normal(loc=0, scale=2, size=nt)\n",
    "    value = air_value_unevenly + noise\n",
    "    new_ts = pyleo.Series(time=air_time_unevenly, value=value)\n",
    "    ts_list.append(new_ts)\n",
    "    \n",
    "ms_air = pyleo.EnsembleSeries(ts_list)\n",
    "corr_res = ms_air.correlation()  # note here the target Series is not specified\n",
    "print(corr_res)"
   ]
  },
  {
   "cell_type": "markdown",
   "metadata": {},
   "source": [
    "Again, with a large ensemble one could visualize the histogram of correlations as above."
   ]
  },
  {
   "cell_type": "markdown",
   "metadata": {},
   "source": [
    "## Case 7: 1 `EnsembleSeries` vs 1 `EnsembleSeries`\n",
    "\n",
    "The sizes of the two `EnsembleSeries` objects can be different.\n",
    "Suppose we name the two groups as A and B, then\n",
    "the calculation of correlations will follow a pairwise procedure,\n",
    "i.e., compare the 1st (2nd, 3rd, ...) member from A to the 1st (2nd, 3rd, ..) member from B, and stop when running out of members from either group.\n",
    "\n",
    "For simplicity, we construct two `EnsembleSeries` by adding normal distribution noise realizations to the air temperature data and the NINO index data, respectively."
   ]
  },
  {
   "cell_type": "code",
   "execution_count": 10,
   "metadata": {},
   "outputs": [
    {
     "name": "stdout",
     "output_type": "stream",
     "text": [
      "{'r': [-0.06195751074732453, -0.10209380192583367, -0.09066183585437274, -0.15743916878394076, -0.1000232197636787, -0.12656628638817705, -0.09416557016689492, -0.10103790337916829, -0.03112547988169663, -0.10116481169893426], 'p': [0.095, 0.0, 0.009, 0.0, 0.003, 0.0, 0.007, 0.005, 0.381, 0.006], 'signif': [False, True, True, True, True, True, True, True, False, True]}\n"
     ]
    }
   ],
   "source": [
    "nt = np.size(ts_air_unevenly.time)\n",
    "n_ens = 10  # ensemble size\n",
    "ts_list = []\n",
    "for i in range(n_ens):\n",
    "    np.random.seed(i)\n",
    "    noise = np.random.normal(loc=0, scale=2, size=nt)\n",
    "    value = air_value_unevenly + noise\n",
    "    new_ts = pyleo.Series(time=air_time_unevenly, value=value)\n",
    "    ts_list.append(new_ts)\n",
    "    \n",
    "ms_air = pyleo.EnsembleSeries(ts_list)\n",
    "    \n",
    "ts_list = []\n",
    "for i in range(n_ens):\n",
    "    np.random.seed(i+1000)\n",
    "    noise = np.random.normal(loc=0, scale=2, size=nt)\n",
    "    value = nino_value_unevenly + noise\n",
    "    new_ts = pyleo.Series(time=nino_time_unevenly, value=value)\n",
    "    ts_list.append(new_ts)\n",
    "    \n",
    "ms_nino = pyleo.EnsembleSeries(ts_list)\n",
    "corr_res = ms_air.correlation(ms_nino)\n",
    "print(corr_res)"
   ]
  },
  {
   "cell_type": "markdown",
   "metadata": {},
   "source": [
    "To properly illustrate correlations with age-uncertain ensembles based on real datasets, see examples in [LiPDBooks](https://github.com/LinkedEarth/LiPDbooks/tree/master/notebooks)."
   ]
  },
  {
   "cell_type": "markdown",
   "metadata": {},
   "source": [
    "## About `apply_fdr` in `EnsembleSeries.correlation()`\n",
    "\n",
    "One major difference between `MultipleSeries.correlation()` and `EnsembleSeries.correlation()` is that the latter has the argument `apply_fdr=True` by default, which means that in an ensemble context, the FDR approach is  to applied by default to determine whether the calculated p-values are significant. You can opt out of it by setting the flag to `False`, but not before carefully considering whether this is wise. \n",
    "\n",
    "Below we  explain the basic idea of FDR and demonstrate the use of `Pyleoclim`'s underlying FDR function with two simple tests to help understand the idea.\n",
    "\n",
    "### Basic idea of FDR\n",
    "Quoting from [Ventura et al. (2004)](https://journals.ametsoc.org/doi/full/10.1175/3199.1): \"A single test performed at signiﬁcance level $\\alpha$ has probability $\\alpha$ of rejecting the null hypothesis when it is in fact true. Hence if $n$ such tests are performed when all $n$ null hypotheses are true (the collective null hypothesis), then the average number of tests for which the null is falsely rejected is $n\\alpha$. For example, with $\\alpha = 5\\%$, testing for a trend at 1000 locations at which no change really occurred would yield 50 signiﬁcant locations on average; this is unacceptably high.\"\n",
    "\n",
    "To overcome this disadvantage, there have been some alternatives, among which the enormously popular False Discovery Rate (FDR), introduced by Benjamini & Hochberg (1995) (BH95 hereafter). There are other variants such as Yekutieli & Benjamini (1999, 2001), and Ventura et al. (2004).\n",
    "\n",
    "The idea is as follows: a multiple testing procedure, returns a list of $p$-values.\n",
    "With the traditional false positive test, the significance level $\\alpha=0.05$ is refered as the false positive rate (FPR), and we reject null hypothesis $H_0$ at all locations $p_i < \\alpha$.\n",
    "\n",
    "In the original BH95 method, the nominal FDR, denoted by $q$, is defined as the rate we are willing to allow of false rejections out of all rejections, and is usually set to $5\\%$. The BH95 procedure rejects $H_0$ in all cases $i$ for which $p_i \\le p_k$, where $k = \\max_{i=0,...,n} \\{i: p_{(i)}\\le q i/n \\}$. For an illustration, see Fig 2 of [Hu et al (2017)](http://dx.doi.org/10.1016/j.epsl.2016.11.048)."
   ]
  },
  {
   "cell_type": "markdown",
   "metadata": {},
   "source": [
    "### The underlying FDR function in `Pyleoclim`"
   ]
  },
  {
   "cell_type": "code",
   "execution_count": 11,
   "metadata": {},
   "outputs": [
    {
     "data": {
      "text/plain": [
       "\u001b[0;31mSignature:\u001b[0m \u001b[0mfdr\u001b[0m\u001b[0;34m(\u001b[0m\u001b[0mpvals\u001b[0m\u001b[0;34m,\u001b[0m \u001b[0mqlevel\u001b[0m\u001b[0;34m=\u001b[0m\u001b[0;36m0.05\u001b[0m\u001b[0;34m,\u001b[0m \u001b[0mmethod\u001b[0m\u001b[0;34m=\u001b[0m\u001b[0;34m'original'\u001b[0m\u001b[0;34m,\u001b[0m \u001b[0madj_method\u001b[0m\u001b[0;34m=\u001b[0m\u001b[0;32mNone\u001b[0m\u001b[0;34m,\u001b[0m \u001b[0madj_args\u001b[0m\u001b[0;34m=\u001b[0m\u001b[0;34m{\u001b[0m\u001b[0;34m}\u001b[0m\u001b[0;34m)\u001b[0m\u001b[0;34m\u001b[0m\u001b[0;34m\u001b[0m\u001b[0m\n",
       "\u001b[0;31mDocstring:\u001b[0m\n",
       "Determine significance based on the FDR approach\n",
       "\n",
       "The false discovery rate is a method of conceptualizing the rate of type I errors in null hypothesis testing when conducting multiple comparisons. \n",
       "Translated from fdr.R by Dr. Chris Paciorek \n",
       "\n",
       "Parameters\n",
       "----------\n",
       "\n",
       "pvals : list or array\n",
       "    A vector of p-values on which to conduct the multiple testing.\n",
       "\n",
       "qlevel : float\n",
       "    The proportion of false positives desired.\n",
       "\n",
       "method : {'original', 'general'}\n",
       "    Method for performing the testing.\n",
       "        - 'original' follows Benjamini & Hochberg (1995);\n",
       "        - 'general' is much more conservative, requiring no assumptions on the p-values (see Benjamini & Yekutieli (2001)).\n",
       "        'original' is recommended, and if desired, using 'adj_method=\"mean\"' to increase power.\n",
       "\n",
       "adj_method: {'mean', 'storey', 'two-stage'}\n",
       "    Method for increasing the power of the procedure by estimating the proportion of alternative p-values.\n",
       "        - 'mean', the modified Storey estimator in Ventura et al. (2004)\n",
       "        - 'storey', the method of Storey (2002)\n",
       "        - 'two-stage', the iterative approach of Benjamini et al. (2001)\n",
       "\n",
       "adj_args : dict\n",
       "    Arguments for adj_method; see prop_alt() for description,\n",
       "    but note that for \"two-stage\", qlevel and fdr_method are taken from the qlevel and method arguments for fdr()\n",
       "\n",
       "Returns\n",
       "-------\n",
       "\n",
       "fdr_res : array or None\n",
       "    A vector of the indices of the significant tests; None if no significant tests\n",
       "\n",
       "References\n",
       "----------\n",
       "\n",
       "- fdr.R by Dr. Chris Paciorek: https://www.stat.berkeley.edu/~paciorek/research/code/code.html\n",
       "\u001b[0;31mFile:\u001b[0m      ~/Github/Pyleoclim_util/pyleoclim/utils/correlation.py\n",
       "\u001b[0;31mType:\u001b[0m      function\n"
      ]
     },
     "metadata": {},
     "output_type": "display_data"
    }
   ],
   "source": [
    "from pyleoclim.utils.correlation import fdr\n",
    "\n",
    "?fdr"
   ]
  },
  {
   "cell_type": "markdown",
   "metadata": {},
   "source": [
    "#### Example case I\n",
    "\n",
    "First let's generate a list of $p$-values with size 10 to emulate 10 tests."
   ]
  },
  {
   "cell_type": "code",
   "execution_count": 12,
   "metadata": {},
   "outputs": [
    {
     "name": "stdout",
     "output_type": "stream",
     "text": [
      "p-value list:\n",
      " [0.05297776 0.08944875 0.02423382 0.09269607 0.01918608 0.03875847\n",
      " 0.02873022 0.07296763 0.04393807 0.03032502]\n",
      "None\n"
     ]
    }
   ],
   "source": [
    "np.random.seed(2333)\n",
    "pval_list = np.random.random(10)/10\n",
    "print('p-value list:\\n', pval_list)\n",
    "\n",
    "fdr_res = fdr(pval_list, method='original')\n",
    "print(fdr_res)"
   ]
  },
  {
   "cell_type": "markdown",
   "metadata": {},
   "source": [
    "In the case above, we get `None`, which means that there are no significant tests.\n",
    "Note that the 3rd test has p-value equals to 0.024, which will be treated as significant in traditional false positive test where the significance level $\\alpha=0.05$.\n",
    "Now let's test another case below.\n",
    "\n",
    "#### Example case II"
   ]
  },
  {
   "cell_type": "code",
   "execution_count": 13,
   "metadata": {},
   "outputs": [
    {
     "name": "stdout",
     "output_type": "stream",
     "text": [
      "p-value list:\n",
      " [0.03531851 0.0596325  0.01615588 0.06179738 0.01279072 0.02583898\n",
      " 0.01915348 0.04864508 0.02929205 0.02021668] \n",
      "\n",
      "[2 4 5 6 8 9] \n",
      "\n",
      "Index\tp-value\n",
      "2\t0.01615588065179053\n",
      "4\t0.01279071873650784\n",
      "5\t0.02583898106901107\n",
      "6\t0.019153480900810392\n",
      "8\t0.029292048677502642\n",
      "9\t0.020216678222839013\n"
     ]
    }
   ],
   "source": [
    "np.random.seed(2333)\n",
    "pval_list = np.random.random(10)/15\n",
    "print('p-value list:\\n', pval_list, '\\n')\n",
    "\n",
    "fdr_res = fdr(pval_list, method='original')\n",
    "print(fdr_res, '\\n')\n",
    "\n",
    "print('Index\\tp-value')\n",
    "for idx in fdr_res:\n",
    "    print(f'{idx}\\t{pval_list[idx]}')"
   ]
  },
  {
   "cell_type": "markdown",
   "metadata": {},
   "source": [
    "In this 2nd case, the `fdr` function returns a list of indices, which indicates the significant ones among the 10 tests.\n",
    "Note that the 1st test has p-value equals to 0.035, which will be treated as significant in traditional false positive test where the significance level $\\alpha=0.05$."
   ]
  },
  {
   "cell_type": "markdown",
   "metadata": {},
   "source": [
    "With the `EnsembleSeries.correlation()` method, this FDR approach will be applied by default when determine the significance of each p-value."
   ]
  }
 ],
 "metadata": {
  "kernelspec": {
   "display_name": "Python 3",
   "language": "python",
   "name": "python3"
  },
  "language_info": {
   "codemirror_mode": {
    "name": "ipython",
    "version": 3
   },
   "file_extension": ".py",
   "mimetype": "text/x-python",
   "name": "python",
   "nbconvert_exporter": "python",
   "pygments_lexer": "ipython3",
   "version": "3.8.5"
  }
 },
 "nbformat": 4,
 "nbformat_minor": 4
}
