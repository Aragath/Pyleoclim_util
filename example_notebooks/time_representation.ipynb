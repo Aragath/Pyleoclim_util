{
 "cells": [
  {
   "cell_type": "markdown",
   "metadata": {},
   "source": [
    "# Time representation in `Pyleoclim`"
   ]
  },
  {
   "cell_type": "markdown",
   "metadata": {},
   "source": [
    "For a field as dependent on chronological information as the paleosciences, you would think that our community would have long ago established standards on how to represent time in various records. Yet, like many aspect of paleo, this is a veritable tower of Babel, with scientists using all kinds of units (e.g. 'ky BP', 'years CE', 'Ma'), often without a clear reference point. Consider for instance, the ubiquitous \"before present\" (BP) notation.  \n",
    "As pointed out by  Wolff (2007) the BP notation has become a de facto standard in the community, although “present” means different things to different people. It is often taken to mean \"Common Era (CE) 1950\" (especially within the radiocarbon community), undefined, or defined as some other date (e.g., CE 2000 in the speleothem community). Still others tor the year the study was performed/published (which every user of the dataset must then figure out for themselves).\n",
    "\n",
    "For studies spanning several million years with age uncertainties in excess of 1,000 years, a  difference of a few decades is immaterial. However, for studies working at higher resolution (e.g., decadal to sub- annual), concentrating on recent millennia, this difference is extremely consequential.  It is thus necessary to standardize the representation of time among various records, especially if they are to be treated jointly in some analysis (e.g. principle components). \n",
    "\n",
    "The most common standard for time and date reporting (e.g., ISO 8601) does not accommodate for geologic time. The [OWL time ontology](https://www.w3.org/TR/owl-time/) draws on the work of Cox and Richards (2015) and includes geologic time. However, these authors offer no finer division of geologic time than eras. This means that the vast majority of archived paleoclimate data sets (particularly, the totality of data sets archived on the LinkedEarth platform) would be represented by single time point (the Quaternary era). Also, there is no easy way to go from geologic to astronomic time, or some more familiar version (e.g. ISO 8601).  To remedy this gap between ISO 8601 and the OWL time representation, `Pyleoclim` uses a precise mechanism to report the time axis in paleoclimate data sets. Time (or age) is  expressed as:  $$ \\mathrm{significand} \\times 10^\\mathrm{exponent} \\text{units direction datum} $$\n",
    "\n",
    "For instance, in the date \"21 ky BP\", \n",
    "- _significand_ refers to 21\n",
    "- _units_ are years, therefore to covert to kiloyears (ky), the _exponent_ is 3\n",
    "- the _direction_ is retrograde (counting back from a _datum_, in this case the \"present\" defined as CE 1950)\n",
    "\n",
    "This notebook illustrates how this time representation works, and how one can convert from various time conventions within this framework.\n",
    "\n",
    "\n",
    "\n",
    "## Load test data"
   ]
  },
  {
   "cell_type": "code",
   "execution_count": 1,
   "metadata": {},
   "outputs": [],
   "source": [
    "%load_ext autoreload\n",
    "%autoreload 2\n",
    "    \n",
    "import pyleoclim as pyleo\n",
    "import scipy.io as sio\n",
    "import numpy as np\n",
    "\n",
    "data = sio.loadmat('../example_data/wtc_test_data_nino.mat')\n",
    "air = data['air'][:, 0]\n",
    "nino = data['nino'][:, 0]\n",
    "t = data['datayear'][:, 0]"
   ]
  },
  {
   "cell_type": "markdown",
   "metadata": {},
   "source": [
    "## Define `Series`"
   ]
  },
  {
   "cell_type": "markdown",
   "metadata": {},
   "source": [
    "We place the data into `Series` objects (`Pyleoclim`'s basic data structure)"
   ]
  },
  {
   "cell_type": "code",
   "execution_count": 3,
   "metadata": {},
   "outputs": [],
   "source": [
    "ts_air = pyleo.Series(time=t, value=air, time_unit='year', value_name='air')\n",
    "ts_nino = pyleo.Series(time=t, value=nino, time_unit='year', value_name='nino')"
   ]
  },
  {
   "cell_type": "markdown",
   "metadata": {},
   "source": [
    "## Test conversion to different target units"
   ]
  },
  {
   "cell_type": "markdown",
   "metadata": {},
   "source": [
    "As alluded to above, the paleoscience literature employs a wide variety of conventions and abbreviations to denote time-related concepts. Currently supported conventions include:\n",
    "            {\n",
    "                'year', 'years', 'yr', 'yrs',\n",
    "                'y BP', yr BP', 'yrs BP', 'year BP', 'years BP',\n",
    "                'ky BP', 'kyr BP', 'kyrs BP', 'ka BP', 'ka',\n",
    "                'my BP', 'myr BP', 'myrs BP', 'ma BP', 'ma',\n",
    "            }\n",
    "            \n",
    "When these units are provided as part of `Series`, `Pyleoclim` will interpret them as you, a human with knowledge of the paleosciences, would. If you give it anything else, it will not understand, so you can either help expand `Pyleoclim`'s repertoire by submitting a [GitHub issue](https://github.com/LinkedEarth/Pyleoclim_util/issues) or express your data in one of those forms. If no unit is provided, `Pyleoclim` assumes that they are expressed in \"year CE\", that is : prograde, and with a datum aligned with year 0 (which exists in the astronomical calendar, and is implicitly assumed by most paleoscientists, even if it does not exist in the Gregorian calendar).\n",
    "This is how it works:          "
   ]
  },
  {
   "cell_type": "code",
   "execution_count": 4,
   "metadata": {},
   "outputs": [
    {
     "name": "stdout",
     "output_type": "stream",
     "text": [
      "Original timeseries:\n",
      "time unit: year\n",
      "time: [1871.   1871.08 1871.17 ... 2003.75 2003.83 2003.92]\n",
      "\n",
      "Converted timeseries:\n",
      "time unit: years\n",
      "time: [1871.   1871.08 1871.17 ... 2003.75 2003.83 2003.92]\n",
      "-------------------------------\n",
      "Original timeseries:\n",
      "time unit: year\n",
      "time: [1871.   1871.08 1871.17 ... 2003.75 2003.83 2003.92]\n",
      "\n",
      "The time axis has been adjusted to be ascending!\n",
      "Converted timeseries:\n",
      "time unit: yrs BP\n",
      "time: [-53.92 -53.83 -53.75 ...  78.83  78.92  79.  ]\n",
      "-------------------------------\n",
      "Original timeseries:\n",
      "time unit: year\n",
      "time: [1871.   1871.08 1871.17 ... 2003.75 2003.83 2003.92]\n",
      "\n",
      "The time axis has been adjusted to be ascending!\n",
      "Converted timeseries:\n",
      "time unit: ky BP\n",
      "time: [-0.05392 -0.05383 -0.05375 ...  0.07883  0.07892  0.079  ]\n",
      "-------------------------------\n",
      "Original timeseries:\n",
      "time unit: year\n",
      "time: [1871.   1871.08 1871.17 ... 2003.75 2003.83 2003.92]\n",
      "\n",
      "The time axis has been adjusted to be ascending!\n",
      "Converted timeseries:\n",
      "time unit: my BP\n",
      "time: [-5.392e-05 -5.383e-05 -5.375e-05 ...  7.883e-05  7.892e-05  7.900e-05]\n",
      "-------------------------------\n",
      "Original timeseries:\n",
      "time unit: year\n",
      "time: [1871.   1871.08 1871.17 ... 2003.75 2003.83 2003.92]\n",
      "\n",
      "The time axis has been adjusted to be ascending!\n",
      "Converted timeseries:\n",
      "time unit: ka\n",
      "time: [-0.05392 -0.05383 -0.05375 ...  0.07883  0.07892  0.079  ]\n",
      "-------------------------------\n",
      "Original timeseries:\n",
      "time unit: year\n",
      "time: [1871.   1871.08 1871.17 ... 2003.75 2003.83 2003.92]\n",
      "\n",
      "The time axis has been adjusted to be ascending!\n",
      "Converted timeseries:\n",
      "time unit: ma\n",
      "time: [-5.392e-05 -5.383e-05 -5.375e-05 ...  7.883e-05  7.892e-05  7.900e-05]\n",
      "-------------------------------\n"
     ]
    }
   ],
   "source": [
    "print('Original timeseries:')\n",
    "print('time unit:', ts_air.time_unit)\n",
    "print('time:', ts_air.time)\n",
    "print()\n",
    "new_ts_air = ts_air.convert_time_unit(time_unit='years')\n",
    "print('Converted timeseries:')\n",
    "print('time unit:', new_ts_air.time_unit)\n",
    "print('time:', new_ts_air.time)\n",
    "print('-------------------------------')\n",
    "\n",
    "for tu in ['yrs BP', 'ky BP', 'my BP', 'ka', 'ma']:\n",
    "    print('Original timeseries:')\n",
    "    print('time unit:', ts_nino.time_unit)\n",
    "    print('time:', ts_nino.time)\n",
    "    print()\n",
    "    new_ts_nino = ts_nino.convert_time_unit(time_unit=tu)\n",
    "    print('Converted timeseries:')\n",
    "    print('time unit:', new_ts_nino.time_unit)\n",
    "    print('time:', new_ts_nino.time)\n",
    "    print('-------------------------------')"
   ]
  },
  {
   "cell_type": "markdown",
   "metadata": {},
   "source": [
    "Notice that the time axis internally converted to be always ascending. Despite geologists' insistance that time goes from recent to old, most normally-constituted people read time as flowing from old to new, which in the Western reading convention, is left to right. Pyleoclim follows this convention internally so all records can be treated uniformly. "
   ]
  },
  {
   "cell_type": "markdown",
   "metadata": {},
   "source": [
    "## Conversion in `MultipleSeries`"
   ]
  },
  {
   "cell_type": "markdown",
   "metadata": {},
   "source": [
    "When defining a `MultipleSeries`, the argument `time_unit` can be specified to convert the time unit for all `Series` in the list. If `time_unit` is set to None as by default, then no conversion is applied."
   ]
  },
  {
   "cell_type": "code",
   "execution_count": 4,
   "metadata": {},
   "outputs": [
    {
     "name": "stdout",
     "output_type": "stream",
     "text": [
      "Original timeseries:\n",
      "value_name: air\n",
      "time_unit: years\n",
      "time [1871.   1871.08 1871.17 ... 2003.75 2003.83 2003.92]\n",
      "value_name: nino\n",
      "time_unit: ma\n",
      "time [-5.392e-05 -5.383e-05 -5.375e-05 ...  7.883e-05  7.892e-05  7.900e-05]\n"
     ]
    }
   ],
   "source": [
    "ms = pyleo.MultipleSeries([new_ts_air, new_ts_nino], time_unit=None)\n",
    "print('Original timeseries:')\n",
    "for ts in ms.series_list:\n",
    "    print('value_name:', ts.value_name)\n",
    "    print('time_unit:', ts.time_unit)\n",
    "    print('time', ts.time)"
   ]
  },
  {
   "cell_type": "code",
   "execution_count": 5,
   "metadata": {},
   "outputs": [
    {
     "name": "stdout",
     "output_type": "stream",
     "text": [
      "The time axis has been adjusted to be ascending!\n",
      "Converted timeseries:\n",
      "value_name: air\n",
      "time_unit: yrs BP\n",
      "time [-53.92 -53.83 -53.75 ...  78.83  78.92  79.  ]\n",
      "value_name: nino\n",
      "time_unit: yrs BP\n",
      "time [-53.92 -53.83 -53.75 ...  78.83  78.92  79.  ]\n"
     ]
    }
   ],
   "source": [
    "ms = pyleo.MultipleSeries([new_ts_air, new_ts_nino], time_unit='yrs BP')\n",
    "print('Converted timeseries:')\n",
    "for ts in ms.series_list:\n",
    "    print('value_name:', ts.value_name)\n",
    "    print('time_unit:', ts.time_unit)\n",
    "    print('time', ts.time)"
   ]
  },
  {
   "cell_type": "code",
   "execution_count": 6,
   "metadata": {},
   "outputs": [
    {
     "name": "stdout",
     "output_type": "stream",
     "text": [
      "The time axis has been adjusted to be ascending!\n",
      "Converted timeseries:\n",
      "value_name: air\n",
      "time_unit: years\n",
      "time [1871.   1871.08 1871.17 ... 2003.75 2003.83 2003.92]\n",
      "value_name: nino\n",
      "time_unit: years\n",
      "time [1871.   1871.08 1871.17 ... 2003.75 2003.83 2003.92]\n"
     ]
    }
   ],
   "source": [
    "ms = pyleo.MultipleSeries([new_ts_air, new_ts_nino], time_unit='years')\n",
    "print('Converted timeseries:')\n",
    "for ts in ms.series_list:\n",
    "    print('value_name:', ts.value_name)\n",
    "    print('time_unit:', ts.time_unit)\n",
    "    print('time', ts.time)"
   ]
  },
  {
   "cell_type": "code",
   "execution_count": 7,
   "metadata": {},
   "outputs": [
    {
     "name": "stdout",
     "output_type": "stream",
     "text": [
      "The time axis has been adjusted to be ascending!\n",
      "Converted timeseries:\n",
      "value_name: air\n",
      "time_unit: yr\n",
      "time [1871.   1871.08 1871.17 ... 2003.75 2003.83 2003.92]\n",
      "value_name: nino\n",
      "time_unit: yr\n",
      "time [1871.   1871.08 1871.17 ... 2003.75 2003.83 2003.92]\n"
     ]
    }
   ],
   "source": [
    "ms = pyleo.MultipleSeries([new_ts_air, new_ts_nino], time_unit='yr')\n",
    "print('Converted timeseries:')\n",
    "for ts in ms.series_list:\n",
    "    print('value_name:', ts.value_name)\n",
    "    print('time_unit:', ts.time_unit)\n",
    "    print('time', ts.time)"
   ]
  },
  {
   "cell_type": "code",
   "execution_count": 8,
   "metadata": {},
   "outputs": [
    {
     "name": "stdout",
     "output_type": "stream",
     "text": [
      "The time axis has been adjusted to be ascending!\n",
      "Converted timeseries:\n",
      "value_name: air\n",
      "time_unit: yr\n",
      "time [1871.   1871.08 1871.17 ... 2003.75 2003.83 2003.92]\n",
      "value_name: nino\n",
      "time_unit: yr\n",
      "time [1871.   1871.08 1871.17 ... 2003.75 2003.83 2003.92]\n"
     ]
    }
   ],
   "source": [
    "ms = pyleo.MultipleSeries([new_ts_air, new_ts_nino], time_unit='yr')\n",
    "print('Converted timeseries:')\n",
    "for ts in ms.series_list:\n",
    "    print('value_name:', ts.value_name)\n",
    "    print('time_unit:', ts.time_unit)\n",
    "    print('time', ts.time)"
   ]
  },
  {
   "cell_type": "markdown",
   "metadata": {},
   "source": [
    "We can also do the conversion via the method of `MultipleSeries`. "
   ]
  },
  {
   "cell_type": "code",
   "execution_count": 9,
   "metadata": {},
   "outputs": [
    {
     "name": "stdout",
     "output_type": "stream",
     "text": [
      "The time axis has been adjusted to be ascending!\n",
      "The time axis has been adjusted to be ascending!\n",
      "value_name: air\n",
      "time_unit: yr BP\n",
      "time [-53.92 -53.83 -53.75 ...  78.83  78.92  79.  ]\n",
      "value_name: nino\n",
      "time_unit: yr BP\n",
      "time [-53.92 -53.83 -53.75 ...  78.83  78.92  79.  ]\n"
     ]
    }
   ],
   "source": [
    "new_ms = ms.convert_time_unit('yr BP')\n",
    "for ts in new_ms.series_list:\n",
    "    print('value_name:', ts.value_name)\n",
    "    print('time_unit:', ts.time_unit)\n",
    "    print('time', ts.time)"
   ]
  },
  {
   "cell_type": "code",
   "execution_count": null,
   "metadata": {},
   "outputs": [],
   "source": []
  }
 ],
 "metadata": {
  "kernelspec": {
   "display_name": "Python 3",
   "language": "python",
   "name": "python3"
  },
  "language_info": {
   "codemirror_mode": {
    "name": "ipython",
    "version": 3
   },
   "file_extension": ".py",
   "mimetype": "text/x-python",
   "name": "python",
   "nbconvert_exporter": "python",
   "pygments_lexer": "ipython3",
   "version": "3.8.5"
  }
 },
 "nbformat": 4,
 "nbformat_minor": 4
}
