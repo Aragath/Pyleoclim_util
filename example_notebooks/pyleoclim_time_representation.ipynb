{
 "cells": [
  {
   "cell_type": "markdown",
   "metadata": {},
   "source": [
    "# Time representation in `Pyleoclim`"
   ]
  },
  {
   "cell_type": "markdown",
   "metadata": {},
   "source": [
    "## Load test data"
   ]
  },
  {
   "cell_type": "code",
   "execution_count": 1,
   "metadata": {},
   "outputs": [],
   "source": [
    "%load_ext autoreload\n",
    "%autoreload 2\n",
    "    \n",
    "import pyleoclim as pyleo\n",
    "import scipy.io as sio\n",
    "import numpy as np\n",
    "\n",
    "data = sio.loadmat('../example_data/wtc_test_data_nino.mat')\n",
    "air = data['air'][:, 0]\n",
    "nino = data['nino'][:, 0]\n",
    "t = data['datayear'][:, 0]"
   ]
  },
  {
   "cell_type": "markdown",
   "metadata": {},
   "source": [
    "## Define `Series`"
   ]
  },
  {
   "cell_type": "code",
   "execution_count": 2,
   "metadata": {},
   "outputs": [],
   "source": [
    "ts_air = pyleo.Series(time=t, value=air, time_unit='year', value_name='air')\n",
    "ts_nino = pyleo.Series(time=t, value=nino, time_unit='year', value_name='nino')"
   ]
  },
  {
   "cell_type": "markdown",
   "metadata": {},
   "source": [
    "## Test conversion to different target units"
   ]
  },
  {
   "cell_type": "markdown",
   "metadata": {},
   "source": [
    "Currently supported time units include:\n",
    "            {\n",
    "                'year', 'years', 'yr', 'yrs',\n",
    "                'y BP', yr BP', 'yrs BP', 'year BP', 'years BP',\n",
    "                'ky BP', 'kyr BP', 'kyrs BP', 'ka BP', 'ka',\n",
    "                'my BP', 'myr BP', 'myrs BP', 'ma BP', 'ma',\n",
    "            }"
   ]
  },
  {
   "cell_type": "code",
   "execution_count": 3,
   "metadata": {},
   "outputs": [
    {
     "name": "stdout",
     "output_type": "stream",
     "text": [
      "Original timeseries:\n",
      "time unit: year\n",
      "time: [1871.   1871.08 1871.17 ... 2003.75 2003.83 2003.92]\n",
      "\n",
      "Converted timeseries:\n",
      "time unit: years\n",
      "time: [1871.   1871.08 1871.17 ... 2003.75 2003.83 2003.92]\n",
      "-------------------------------\n",
      "Original timeseries:\n",
      "time unit: year\n",
      "time: [1871.   1871.08 1871.17 ... 2003.75 2003.83 2003.92]\n",
      "\n",
      "The time axis has been adjusted to be ascending!\n",
      "Converted timeseries:\n",
      "time unit: yrs BP\n",
      "time: [-53.92 -53.83 -53.75 ...  78.83  78.92  79.  ]\n",
      "-------------------------------\n",
      "Original timeseries:\n",
      "time unit: year\n",
      "time: [1871.   1871.08 1871.17 ... 2003.75 2003.83 2003.92]\n",
      "\n",
      "The time axis has been adjusted to be ascending!\n",
      "Converted timeseries:\n",
      "time unit: ky BP\n",
      "time: [-0.05392 -0.05383 -0.05375 ...  0.07883  0.07892  0.079  ]\n",
      "-------------------------------\n",
      "Original timeseries:\n",
      "time unit: year\n",
      "time: [1871.   1871.08 1871.17 ... 2003.75 2003.83 2003.92]\n",
      "\n",
      "The time axis has been adjusted to be ascending!\n",
      "Converted timeseries:\n",
      "time unit: my BP\n",
      "time: [-5.392e-05 -5.383e-05 -5.375e-05 ...  7.883e-05  7.892e-05  7.900e-05]\n",
      "-------------------------------\n",
      "Original timeseries:\n",
      "time unit: year\n",
      "time: [1871.   1871.08 1871.17 ... 2003.75 2003.83 2003.92]\n",
      "\n",
      "The time axis has been adjusted to be ascending!\n",
      "Converted timeseries:\n",
      "time unit: ka\n",
      "time: [-0.05392 -0.05383 -0.05375 ...  0.07883  0.07892  0.079  ]\n",
      "-------------------------------\n",
      "Original timeseries:\n",
      "time unit: year\n",
      "time: [1871.   1871.08 1871.17 ... 2003.75 2003.83 2003.92]\n",
      "\n",
      "The time axis has been adjusted to be ascending!\n",
      "Converted timeseries:\n",
      "time unit: ma\n",
      "time: [-5.392e-05 -5.383e-05 -5.375e-05 ...  7.883e-05  7.892e-05  7.900e-05]\n",
      "-------------------------------\n"
     ]
    }
   ],
   "source": [
    "print('Original timeseries:')\n",
    "print('time unit:', ts_air.time_unit)\n",
    "print('time:', ts_air.time)\n",
    "print()\n",
    "new_ts_air = ts_air.convert_time_unit(time_unit='years')\n",
    "print('Converted timeseries:')\n",
    "print('time unit:', new_ts_air.time_unit)\n",
    "print('time:', new_ts_air.time)\n",
    "print('-------------------------------')\n",
    "\n",
    "for tu in ['yrs BP', 'ky BP', 'my BP', 'ka', 'ma']:\n",
    "    print('Original timeseries:')\n",
    "    print('time unit:', ts_nino.time_unit)\n",
    "    print('time:', ts_nino.time)\n",
    "    print()\n",
    "    new_ts_nino = ts_nino.convert_time_unit(time_unit=tu)\n",
    "    print('Converted timeseries:')\n",
    "    print('time unit:', new_ts_nino.time_unit)\n",
    "    print('time:', new_ts_nino.time)\n",
    "    print('-------------------------------')"
   ]
  },
  {
   "cell_type": "markdown",
   "metadata": {},
   "source": [
    "## Conversion in `MultipleSeries`"
   ]
  },
  {
   "cell_type": "markdown",
   "metadata": {},
   "source": [
    "When define a `MultipleSeries`, the argument `time_unit` can be specified to convert the time unit for each `Series` in the list.\n",
    "If `time_unit` is set to None as by default, the no conversion will be applied."
   ]
  },
  {
   "cell_type": "code",
   "execution_count": 4,
   "metadata": {},
   "outputs": [
    {
     "name": "stdout",
     "output_type": "stream",
     "text": [
      "Original timeseries:\n",
      "value_name: air\n",
      "time_unit: years\n",
      "time [1871.   1871.08 1871.17 ... 2003.75 2003.83 2003.92]\n",
      "value_name: nino\n",
      "time_unit: ma\n",
      "time [-5.392e-05 -5.383e-05 -5.375e-05 ...  7.883e-05  7.892e-05  7.900e-05]\n"
     ]
    }
   ],
   "source": [
    "ms = pyleo.MultipleSeries([new_ts_air, new_ts_nino], time_unit=None)\n",
    "print('Original timeseries:')\n",
    "for ts in ms.series_list:\n",
    "    print('value_name:', ts.value_name)\n",
    "    print('time_unit:', ts.time_unit)\n",
    "    print('time', ts.time)"
   ]
  },
  {
   "cell_type": "code",
   "execution_count": 5,
   "metadata": {},
   "outputs": [
    {
     "name": "stdout",
     "output_type": "stream",
     "text": [
      "The time axis has been adjusted to be ascending!\n",
      "Converted timeseries:\n",
      "value_name: air\n",
      "time_unit: yrs BP\n",
      "time [-53.92 -53.83 -53.75 ...  78.83  78.92  79.  ]\n",
      "value_name: nino\n",
      "time_unit: yrs BP\n",
      "time [-53.92 -53.83 -53.75 ...  78.83  78.92  79.  ]\n"
     ]
    }
   ],
   "source": [
    "ms = pyleo.MultipleSeries([new_ts_air, new_ts_nino], time_unit='yrs BP')\n",
    "print('Converted timeseries:')\n",
    "for ts in ms.series_list:\n",
    "    print('value_name:', ts.value_name)\n",
    "    print('time_unit:', ts.time_unit)\n",
    "    print('time', ts.time)"
   ]
  },
  {
   "cell_type": "code",
   "execution_count": 6,
   "metadata": {},
   "outputs": [
    {
     "name": "stdout",
     "output_type": "stream",
     "text": [
      "The time axis has been adjusted to be ascending!\n",
      "Converted timeseries:\n",
      "value_name: air\n",
      "time_unit: years\n",
      "time [1871.   1871.08 1871.17 ... 2003.75 2003.83 2003.92]\n",
      "value_name: nino\n",
      "time_unit: years\n",
      "time [1871.   1871.08 1871.17 ... 2003.75 2003.83 2003.92]\n"
     ]
    }
   ],
   "source": [
    "ms = pyleo.MultipleSeries([new_ts_air, new_ts_nino], time_unit='years')\n",
    "print('Converted timeseries:')\n",
    "for ts in ms.series_list:\n",
    "    print('value_name:', ts.value_name)\n",
    "    print('time_unit:', ts.time_unit)\n",
    "    print('time', ts.time)"
   ]
  },
  {
   "cell_type": "code",
   "execution_count": 7,
   "metadata": {},
   "outputs": [
    {
     "name": "stdout",
     "output_type": "stream",
     "text": [
      "The time axis has been adjusted to be ascending!\n",
      "Converted timeseries:\n",
      "value_name: air\n",
      "time_unit: yr\n",
      "time [1871.   1871.08 1871.17 ... 2003.75 2003.83 2003.92]\n",
      "value_name: nino\n",
      "time_unit: yr\n",
      "time [1871.   1871.08 1871.17 ... 2003.75 2003.83 2003.92]\n"
     ]
    }
   ],
   "source": [
    "ms = pyleo.MultipleSeries([new_ts_air, new_ts_nino], time_unit='yr')\n",
    "print('Converted timeseries:')\n",
    "for ts in ms.series_list:\n",
    "    print('value_name:', ts.value_name)\n",
    "    print('time_unit:', ts.time_unit)\n",
    "    print('time', ts.time)"
   ]
  },
  {
   "cell_type": "code",
   "execution_count": 8,
   "metadata": {},
   "outputs": [
    {
     "name": "stdout",
     "output_type": "stream",
     "text": [
      "The time axis has been adjusted to be ascending!\n",
      "Converted timeseries:\n",
      "value_name: air\n",
      "time_unit: yr\n",
      "time [1871.   1871.08 1871.17 ... 2003.75 2003.83 2003.92]\n",
      "value_name: nino\n",
      "time_unit: yr\n",
      "time [1871.   1871.08 1871.17 ... 2003.75 2003.83 2003.92]\n"
     ]
    }
   ],
   "source": [
    "ms = pyleo.MultipleSeries([new_ts_air, new_ts_nino], time_unit='yr')\n",
    "print('Converted timeseries:')\n",
    "for ts in ms.series_list:\n",
    "    print('value_name:', ts.value_name)\n",
    "    print('time_unit:', ts.time_unit)\n",
    "    print('time', ts.time)"
   ]
  },
  {
   "cell_type": "markdown",
   "metadata": {},
   "source": [
    "We can also do the conversion via the method of `MultipleSeries`. "
   ]
  },
  {
   "cell_type": "code",
   "execution_count": 9,
   "metadata": {},
   "outputs": [
    {
     "name": "stdout",
     "output_type": "stream",
     "text": [
      "The time axis has been adjusted to be ascending!\n",
      "The time axis has been adjusted to be ascending!\n",
      "value_name: air\n",
      "time_unit: yr BP\n",
      "time [-53.92 -53.83 -53.75 ...  78.83  78.92  79.  ]\n",
      "value_name: nino\n",
      "time_unit: yr BP\n",
      "time [-53.92 -53.83 -53.75 ...  78.83  78.92  79.  ]\n"
     ]
    }
   ],
   "source": [
    "new_ms = ms.convert_time_unit('yr BP')\n",
    "for ts in new_ms.series_list:\n",
    "    print('value_name:', ts.value_name)\n",
    "    print('time_unit:', ts.time_unit)\n",
    "    print('time', ts.time)"
   ]
  },
  {
   "cell_type": "code",
   "execution_count": null,
   "metadata": {},
   "outputs": [],
   "source": []
  }
 ],
 "metadata": {
  "kernelspec": {
   "display_name": "Python 3",
   "language": "python",
   "name": "python3"
  },
  "language_info": {
   "codemirror_mode": {
    "name": "ipython",
    "version": 3
   },
   "file_extension": ".py",
   "mimetype": "text/x-python",
   "name": "python",
   "nbconvert_exporter": "python",
   "pygments_lexer": "ipython3",
   "version": "3.8.5"
  }
 },
 "nbformat": 4,
 "nbformat_minor": 4
}
