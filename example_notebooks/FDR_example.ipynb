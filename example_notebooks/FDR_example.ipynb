{
 "cells": [
  {
   "cell_type": "markdown",
   "metadata": {},
   "source": [
    "# The FDR function in Pyleoclim"
   ]
  },
  {
   "cell_type": "markdown",
   "metadata": {},
   "source": [
    "This notebook presents how to use the `fdr` function in Pyleoclim."
   ]
  },
  {
   "cell_type": "markdown",
   "metadata": {},
   "source": [
    "## Basic idea of FDR"
   ]
  },
  {
   "cell_type": "markdown",
   "metadata": {},
   "source": [
    "Quote from [Ventura et al. (2004)](https://journals.ametsoc.org/doi/full/10.1175/3199.1): \"A single test performed at signiﬁcance level $\\alpha$ has probability $\\alpha$ of rejecting the null hypothesis when it is in fact true. Hence if $n$ such tests are performed when all $n$ null hypotheses are true (the collective null hypothesis), then the average number of tests for which the null is falsely rejected is $n\\alpha$. For example, with $\\alpha = 5\\%$, testing for a trend at 1000 locations at which no change really occurred would yield 50 signiﬁcant locations on average; this is unacceptably high.\"\n",
    "\n",
    "To overcome this disadvantage, there have been some alternatives, among which one is False Discovery Rate (FDR), originally by Benjamini & Hochberg (1995) (BH95 hereafter). There are other variants such as Yekutieli & Benjamini (1999, 2001), and Ventura et al. (2004).\n",
    "\n",
    "In a multiple testing procedure, we have a list of $p$-values.\n",
    "With the traditional false positive test, the significance level $\\alpha=0.05$ is refered as the false positive rate (FPR), and we reject null hypothesis $H_0$ at all locations $p_i < \\alpha$.\n",
    "\n",
    "In the original BH95 method, the nominal FDR, denoted by $q$, is defined as the rate we are willing to allow of false rejections out of all rejections, and is usually set to $5\\%$. The BH95 procedure rejects null hypothesis $H_0$ at all locations $i$ for which $p_i \\le p_k$, where $k = \\max_{i=0,...,n} \\{i: p_{(i)}\\le q i/n \\}$."
   ]
  },
  {
   "cell_type": "markdown",
   "metadata": {},
   "source": [
    "## The function in Pyleoclim"
   ]
  },
  {
   "cell_type": "code",
   "execution_count": 1,
   "metadata": {},
   "outputs": [
    {
     "data": {
      "text/plain": [
       "\u001b[0;31mSignature:\u001b[0m \u001b[0mfdr\u001b[0m\u001b[0;34m(\u001b[0m\u001b[0mpvals\u001b[0m\u001b[0;34m,\u001b[0m \u001b[0mqlevel\u001b[0m\u001b[0;34m=\u001b[0m\u001b[0;36m0.05\u001b[0m\u001b[0;34m,\u001b[0m \u001b[0mmethod\u001b[0m\u001b[0;34m=\u001b[0m\u001b[0;34m'original'\u001b[0m\u001b[0;34m,\u001b[0m \u001b[0madj_method\u001b[0m\u001b[0;34m=\u001b[0m\u001b[0;32mNone\u001b[0m\u001b[0;34m,\u001b[0m \u001b[0madj_args\u001b[0m\u001b[0;34m=\u001b[0m\u001b[0;34m{\u001b[0m\u001b[0;34m}\u001b[0m\u001b[0;34m)\u001b[0m\u001b[0;34m\u001b[0m\u001b[0;34m\u001b[0m\u001b[0m\n",
       "\u001b[0;31mDocstring:\u001b[0m\n",
       "Determine significance based on the FDR approach (translated from fdr.R by Dr. Chris Paciorek)\n",
       "\n",
       "Args\n",
       "----\n",
       "\n",
       "pvals : list or array\n",
       "    A vector of p-values on which to conduct the multiple testing.\n",
       "\n",
       "qlevel : float\n",
       "    The proportion of false positives desired.\n",
       "\n",
       "method : {'original', 'general'}\n",
       "    Method for performing the testing.\n",
       "    - 'original' follows Benjamini & Hochberg (1995);\n",
       "    - 'general' is much more conservative, requiring no assumptions on the p-values (see Benjamini & Yekutieli (2001)).\n",
       "    'original' is recommended, and if desired, using 'adj_method=\"mean\"' to increase power.\n",
       "\n",
       "adj_method: {'mean', 'storey', 'two-stage'}\n",
       "    Method for increasing the power of the procedure by estimating the proportion of alternative p-values.\n",
       "    - 'mean', the modified Storey estimator in Ventura et al. (2004)\n",
       "    - 'storey', the method of Storey (2002)\n",
       "    - 'two-stage', the iterative approach of Benjamini et al. (2001)\n",
       "\n",
       "adj_args : dict\n",
       "    Arguments for adj_method; see prop_alt() for description,\n",
       "    but note that for \"two-stage\", qlevel and fdr_method are taken from the qlevel and method arguments for fdr()\n",
       "\n",
       "Returns\n",
       "-------\n",
       "\n",
       "fdr_res : array or None\n",
       "    A vector of the indices of the significant tests; None if no significant tests\n",
       "\n",
       "References\n",
       "----------\n",
       "\n",
       "- The fdr.R by Dr. Chris Paciorek: https://www.stat.berkeley.edu/~paciorek/research/code/code.html\n",
       "\u001b[0;31mFile:\u001b[0m      ~/Github/Pyleoclim_util/pyleoclim/utils/correlation.py\n",
       "\u001b[0;31mType:\u001b[0m      function\n"
      ]
     },
     "metadata": {},
     "output_type": "display_data"
    }
   ],
   "source": [
    "from pyleoclim.utils.correlation import fdr\n",
    "\n",
    "?fdr"
   ]
  },
  {
   "cell_type": "markdown",
   "metadata": {},
   "source": [
    "### Example case 1\n",
    "\n",
    "First let's generate a list of $p$-values with size 10 to emulate 10 tests."
   ]
  },
  {
   "cell_type": "code",
   "execution_count": 74,
   "metadata": {},
   "outputs": [
    {
     "name": "stdout",
     "output_type": "stream",
     "text": [
      "p-value list:\n",
      " [0.05297776 0.08944875 0.02423382 0.09269607 0.01918608 0.03875847\n",
      " 0.02873022 0.07296763 0.04393807 0.03032502]\n"
     ]
    }
   ],
   "source": [
    "import numpy as np\n",
    "\n",
    "np.random.seed(2333)\n",
    "pval_list = np.random.random(10)/10\n",
    "print('p-value list:\\n', pval_list)"
   ]
  },
  {
   "cell_type": "code",
   "execution_count": 64,
   "metadata": {},
   "outputs": [
    {
     "name": "stdout",
     "output_type": "stream",
     "text": [
      "None\n"
     ]
    }
   ],
   "source": [
    "fdr_res = fdr(pval_list, method='original')\n",
    "print(fdr_res)"
   ]
  },
  {
   "cell_type": "markdown",
   "metadata": {},
   "source": [
    "In the case above, we get `None`, which means that there are no significant tests.\n",
    "Now let's test another case below.\n",
    "Note that the 3rd test has p-value equals to 0.024, which will be treated as significant in traditional false positive test where the significance level $\\alpha=0.05$."
   ]
  },
  {
   "cell_type": "markdown",
   "metadata": {},
   "source": [
    "### Example case 2"
   ]
  },
  {
   "cell_type": "code",
   "execution_count": 76,
   "metadata": {},
   "outputs": [
    {
     "name": "stdout",
     "output_type": "stream",
     "text": [
      "p-value list:\n",
      " [0.03531851 0.0596325  0.01615588 0.06179738 0.01279072 0.02583898\n",
      " 0.01915348 0.04864508 0.02929205 0.02021668] \n",
      "\n",
      "[2 4 5 6 8 9] \n",
      "\n",
      "Index\tp-value\n",
      "2\t0.01615588065179053\n",
      "4\t0.01279071873650784\n",
      "5\t0.02583898106901107\n",
      "6\t0.019153480900810392\n",
      "8\t0.029292048677502642\n",
      "9\t0.020216678222839013\n"
     ]
    }
   ],
   "source": [
    "np.random.seed(2333)\n",
    "pval_list = np.random.random(10)/15\n",
    "print('p-value list:\\n', pval_list, '\\n')\n",
    "\n",
    "fdr_res = fdr(pval_list, method='original')\n",
    "print(fdr_res, '\\n')\n",
    "\n",
    "print('Index\\tp-value')\n",
    "for idx in fdr_res:\n",
    "    print(f'{idx}\\t{pval_list[idx]}')"
   ]
  },
  {
   "cell_type": "markdown",
   "metadata": {},
   "source": [
    "In this 2nd case, the `fdr` function returns a list of indices, which indicates the significant ones among the 10 tests.\n",
    "Note that the 1st test has p-value equals to 0.035, which will be treated as significant in traditional false positive test where the significance level $\\alpha=0.05$."
   ]
  },
  {
   "cell_type": "code",
   "execution_count": 12,
   "metadata": {},
   "outputs": [],
   "source": [
    "import numpy as np\n",
    "\n",
    "def freq_vector_log_fix(ts, nfreq=None):\n",
    "    ''' Return the frequency vector based on logspace\n",
    "\n",
    "    Args\n",
    "    ----\n",
    "\n",
    "    ts : array\n",
    "        time axis of the time series\n",
    "\n",
    "    nv : int\n",
    "        the parameter that controls the number of freq points\n",
    "\n",
    "    Returns\n",
    "    -------\n",
    "\n",
    "    freq : array\n",
    "        the frequency vector\n",
    "\n",
    "    '''\n",
    "\n",
    "    nt = np.size(ts)\n",
    "    dt = np.median(np.diff(ts))\n",
    "    fs = 1 / dt\n",
    "    if nfreq is None:\n",
    "        nfreq = nt//10 + 1\n",
    "\n",
    "    fmin = 2/(np.max(ts)-np.min(ts))\n",
    "    fmax = fs/2\n",
    "    start = np.log2(fmin)\n",
    "    stop = np.log2(fmax)\n",
    "\n",
    "    freq = np.logspace(start, stop, nfreq, base=2)\n",
    "\n",
    "    return freq"
   ]
  },
  {
   "cell_type": "code",
   "execution_count": 13,
   "metadata": {},
   "outputs": [],
   "source": [
    "t = np.array([   20.0035 ,    22.1215 ,    38.075  ,    95.535  ,   152.995  ,\n",
    "         210.455  ,   267.915  ,   317.284  ,   342.38   ,   367.476  ,\n",
    "         392.572  ,   417.668  ,   436.49   ,   445.56   ,   481.84   ,\n",
    "         518.12   ,   554.4    ,   600.1084 ,   674.102  ,   748.0956 ,\n",
    "         822.0892 ,   896.0828 ,   960.74885,   997.43225,  1034.11565,\n",
    "        1070.79905,  1107.48245,  1139.6092 ,  1158.066  ,  1176.5228 ,\n",
    "        1194.9796 ,  1213.4364 ,  1235.33615,  1267.56475,  1299.79335,\n",
    "        1332.02195,  1364.25055,  1389.48485,  1393.73625,  1397.98765,\n",
    "        1402.23905,  1406.49045,  1423.3671 ,  1478.1195 ,  1532.8719 ,\n",
    "        1587.6243 ,  1642.3767 ,  1708.56155,  1809.04375,  1909.52595,\n",
    "        2010.00815,  2110.49035,  2196.4424 ,  2238.804  ,  2281.1656 ,\n",
    "        2323.5272 ,  2365.8888 ,  2398.76565,  2403.18825,  2407.61085,\n",
    "        2412.03345,  2416.45605,  2436.3877 ,  2502.8465 ,  2635.7641 ,\n",
    "        2702.2229 ,  2760.66655,  2795.06475,  2829.46295,  2863.86115,\n",
    "        2898.25935,  2990.991  ,  3044.5374 ,  3098.0838 ,  3151.6302 ,\n",
    "        3210.1285 ,  3283.4825 ,  3356.8365 ,  3430.1905 ,  3503.5445 ,\n",
    "        3574.9425 ,  3640.4725 ,  3706.0025 ,  3771.5325 ,  3837.0625 ,\n",
    "        3899.113  ,  3950.725  ,  3950.725  ,  4002.337  ,  4053.949  ,\n",
    "        4105.561  ,  4149.7155 ,  4171.4975 ,  4193.2795 ,  4215.0615 ,\n",
    "        4236.8435 ,  4256.2635 ,  4268.5975 ,  4280.9315 ,  4305.5995 ,\n",
    "        4330.502  ,  4393.11   ,  4455.718  ,  4518.326  ,  4580.934  ,\n",
    "        4631.8905 ,  4647.8925 ,  4663.8945 ,  4679.8965 ,  4695.8985 ,\n",
    "        4715.7475 ,  4747.1375 ,  4778.5275 ,  4809.9175 ,  4841.3075 ,\n",
    "        4865.534  ,  4868.27   ,  4871.006  ,  4873.742  ,  4876.478  ,\n",
    "        4894.5535 ,  4958.6475 ,  5022.7415 ,  5086.8355 ,  5150.9295 ,\n",
    "        5203.1745 ,  5219.8725 ,  5236.5705 ,  5253.2685 ,  5269.9665 ,\n",
    "        5282.49   ,  5303.33375,  5386.70875,  5470.08375,  5553.45875,\n",
    "        5652.898  ,  5800.53   ,  5948.162  ,  6095.794  ,  6243.426  ,\n",
    "        6381.5285 ,  6491.0425 ,  6600.5565 ,  6710.0705 ,  6819.5845 ,\n",
    "        6902.324  ,  6904.74   ,  6907.156  ,  6909.572  ,  6911.988  ,\n",
    "        6916.2685 ,  6926.1425 ,  6936.0165 ,  6955.7645 ,  6970.3145 ,\n",
    "        6998.8925 ,  7027.4705 ,  7056.0485 ,  7133.416  ,  7242.84   ,\n",
    "        7352.264  ,  7461.688  ,  7571.112  ,  7664.46   ,  7754.7    ,\n",
    "        7799.82   ,  7844.94   ,  7878.8365 ,  7879.0625 ,  7879.2885 ,\n",
    "        7879.5145 ,  7887.301  ,  7916.865  ,  7946.429  ,  7975.993  ,\n",
    "        8033.051  ,  8054.335  ,  8075.619  ,  8118.187  ,  8147.92   ,\n",
    "        8203.     ,  8258.08   ,  8313.16   ,  8368.24   ,  8417.4805 ,\n",
    "        8449.2025 ,  8480.9245 ,  8512.6465 ,  8544.3685 ,  8570.6775 ,\n",
    "        8580.7475 ,  8590.8175 ,  8600.8875 ,  8608.455  ,  8612.521  ,\n",
    "        8628.605  ,  8644.689  ,  8660.773  ,  8676.857  ,  8695.969  ,\n",
    "        8724.165  ,  8752.361  ,  8808.753  ,  8838.27   ,  8871.75   ,\n",
    "        8905.23   ,  8938.71   ,  8972.19   ,  8998.5955 ,  9003.7775 ,\n",
    "        9008.9595 ,  9019.3235 ,  9036.2055 ,  9140.1695 ,  9192.1515 ,\n",
    "        9244.1335 ,  9310.56   ,  9332.512  ,  9354.464  ,  9376.416  ,\n",
    "        9423.3565 ,  9545.2625 ,  9667.1685 ,  9789.0745 , 10019.7615 ,\n",
    "       10158.5735 , 10227.9795 , 10297.3855 , 10351.409  , 10359.285  ,\n",
    "       10367.161  , 10375.037  , 10382.913  , 10420.735  , 10446.267  ,\n",
    "       10452.65   , 10452.65   ])"
   ]
  },
  {
   "cell_type": "code",
   "execution_count": 14,
   "metadata": {},
   "outputs": [],
   "source": [
    "from pyleoclim.utils.wavelet import freq_vector_log, freq_vector_nfft"
   ]
  },
  {
   "cell_type": "code",
   "execution_count": 15,
   "metadata": {},
   "outputs": [
    {
     "name": "stdout",
     "output_type": "stream",
     "text": [
      "[237.         224.32707734 212.33180433 200.97794553 190.23120308\n",
      " 180.0591131  170.43094764 161.31762182 152.69160602 144.52684266\n",
      " 136.79866756 129.48373535 122.559949   116.00639307 109.8032705\n",
      " 103.93184284  98.37437362  93.11407476  88.13505591  83.42227638\n",
      "  78.96149977  74.73925091  70.74277519  66.96      ]\n",
      "[5216.32325    4316.4153989  3571.75753934 2955.56630696 2445.67894059\n",
      " 2023.75614661 1674.62248335 1385.7205407  1146.65928352  948.84031366\n",
      "  785.14860845  649.69661225  537.61247671  444.86483331  368.11779579\n",
      "  304.61097716  252.06020591  208.57537045  172.59243679  142.81719445\n",
      "  118.17870707   97.79079374   80.92015539   66.96      ]\n",
      "[          inf 7901.28       3950.64       2633.76       1975.32\n",
      " 1580.256      1316.88       1128.75428571  987.66        877.92\n",
      "  790.128       718.29818182  658.44        607.79076923  564.37714286\n",
      "  526.752       493.83        464.78117647  438.96        415.85684211\n",
      "  395.064       376.25142857  359.14909091  343.53391304  329.22\n",
      "  316.0512      303.89538462  292.64        282.18857143  272.45793103\n",
      "  263.376       254.88        246.915       239.43272727  232.39058824\n",
      "  225.75085714  219.48        213.54810811  207.92842105  202.59692308\n",
      "  197.532       192.71414634  188.12571429  183.75069767  179.57454545\n",
      "  175.584       171.76695652  168.11234043  164.61        161.25061224\n",
      "  158.0256      154.92705882  151.94769231  149.08075472  146.32\n",
      "  143.65963636  141.09428571  138.61894737  136.22896552  133.92\n",
      "  131.688       129.52918033  127.44        125.41714286  123.4575\n",
      "  121.55815385  119.71636364  117.92955224  116.19529412  114.51130435\n",
      "  112.87542857  111.2856338   109.74        108.23671233  106.77405405\n",
      "  105.3504      103.96421053  102.61402597  101.29846154  100.01620253\n",
      "   98.766        97.54666667   96.35707317   95.19614458   94.06285714\n",
      "   92.95623529   91.87534884   90.81931034   89.78727273   88.77842697\n",
      "   87.792        86.82725275   85.88347826   84.96         84.05617021\n",
      "   83.17136842   82.305        81.45649485   80.62530612   79.81090909\n",
      "   79.0128       78.23049505   77.46352941   76.71145631   75.97384615\n",
      "   75.25028571   74.54037736   73.84373832   73.16         72.48880734\n",
      "   71.82981818   71.1827027    70.54714286   69.92283186   69.30947368\n",
      "   68.70678261   68.11448276   67.53230769   66.96      ]\n"
     ]
    },
    {
     "name": "stderr",
     "output_type": "stream",
     "text": [
      "/Users/fzhu/Apps/miniconda3/envs/py3.7/lib/python3.7/site-packages/ipykernel_launcher.py:6: RuntimeWarning: divide by zero encountered in true_divide\n",
      "  \n"
     ]
    }
   ],
   "source": [
    "freq_log = freq_vector_log(t)\n",
    "freq_fix = freq_vector_log_fix(t)\n",
    "freq_nfft = freq_vector_nfft(t)\n",
    "print(1/freq_log)\n",
    "print(1/freq_fix)\n",
    "print(1/freq_nfft)"
   ]
  },
  {
   "cell_type": "code",
   "execution_count": null,
   "metadata": {},
   "outputs": [],
   "source": []
  }
 ],
 "metadata": {
  "kernelspec": {
   "display_name": "Python 3",
   "language": "python",
   "name": "python3"
  },
  "language_info": {
   "codemirror_mode": {
    "name": "ipython",
    "version": 3
   },
   "file_extension": ".py",
   "mimetype": "text/x-python",
   "name": "python",
   "nbconvert_exporter": "python",
   "pygments_lexer": "ipython3",
   "version": "3.7.7"
  }
 },
 "nbformat": 4,
 "nbformat_minor": 4
}
